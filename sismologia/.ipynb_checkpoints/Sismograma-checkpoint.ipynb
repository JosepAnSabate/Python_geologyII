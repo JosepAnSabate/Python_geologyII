{
 "cells": [
  {
   "cell_type": "code",
   "execution_count": 1,
   "id": "96f12d7c",
   "metadata": {},
   "outputs": [
    {
     "name": "stdout",
     "output_type": "stream",
     "text": [
      "         network: \n",
      "         station: SRU\n",
      "        location: \n",
      "         channel: Y\n",
      "       starttime: 2013-06-07T08:08:05.896800Z\n",
      "         endtime: 2013-06-07T11:58:22.021643Z\n",
      "   sampling_rate: 249.99998474121094\n",
      "           delta: 0.00400000024414064\n",
      "            npts: 3454032\n",
      "           calib: 1.0\n",
      "         _format: SAC\n",
      "             sac: AttribDict({'delta': 0.0040000002, 'depmin': -12345.0, 'depmax': -12345.0, 'scale': -12345.0, 'odelta': -12345.0, 'b': 0.00079999998, 'e': 13816.125, 'o': -12345.0, 'a': -12345.0, 'internal0': -12345.0, 't0': -12345.0, 't1': -12345.0, 't2': -12345.0, 't3': -12345.0, 't4': -12345.0, 't5': -12345.0, 't6': -12345.0, 't7': -12345.0, 't8': -12345.0, 't9': -12345.0, 'f': -12345.0, 'resp0': -12345.0, 'resp1': -12345.0, 'resp2': -12345.0, 'resp3': -12345.0, 'resp4': -12345.0, 'resp5': -12345.0, 'resp6': -12345.0, 'resp7': -12345.0, 'resp8': -12345.0, 'resp9': -12345.0, 'stla': -12345.0, 'stlo': -12345.0, 'stel': -12345.0, 'stdp': -12345.0, 'evla': -12345.0, 'evlo': -12345.0, 'evel': -12345.0, 'evdp': -12345.0, 'mag': -12345.0, 'user0': -12345.0, 'user1': -12345.0, 'user2': -12345.0, 'user3': -12345.0, 'user4': -12345.0, 'user5': -12345.0, 'user6': -12345.0, 'user7': -12345.0, 'user8': -12345.0, 'user9': -12345.0, 'dist': -12345.0, 'az': -12345.0, 'baz': -12345.0, 'gcarc': -12345.0, 'internal1': -12345.0, 'internal2': -12345.0, 'depmen': -12345.0, 'cmpaz': -12345.0, 'cmpinc': -12345.0, 'xminimum': -12345.0, 'xmaximum': -12345.0, 'yminimum': -12345.0, 'ymaximum': -12345.0, 'unused6': -12345.0, 'unused7': -12345.0, 'unused8': -12345.0, 'unused9': -12345.0, 'unused10': -12345.0, 'unused11': -12345.0, 'unused12': -12345.0, 'nzyear': 2013, 'nzjday': 158, 'nzhour': 8, 'nzmin': 8, 'nzsec': 5, 'nzmsec': 896, 'nvhdr': 6, 'norid': -12345, 'nevid': -12345, 'npts': 3454032, 'internal3': -12345, 'nwfid': -12345, 'nxsize': -12345, 'nysize': -12345, 'unused13': -12345, 'iftype': 1, 'idep': -12345, 'iztype': -12345, 'unused14': -12345, 'iinst': -12345, 'istreg': -12345, 'ievreg': -12345, 'ievtyp': -12345, 'iqual': -12345, 'isynth': -12345, 'imagtyp': -12345, 'imagsrc': -12345, 'unused15': -12345, 'unused16': -12345, 'unused17': -12345, 'unused18': -12345, 'unused19': -12345, 'unused20': -12345, 'unused21': -12345, 'unused22': -12345, 'leven': 1, 'lpspol': -12345, 'lovrok': -12345, 'lcalda': -12345, 'unused23': -12345, 'kstnm': 'SRU', 'kevnm': '-12345          ', 'khole': '-12345  ', 'ko': '-12345  ', 'ka': '-12345  ', 'kt0': '-12345  ', 'kt1': '-12345  ', 'kt2': '-12345  ', 'kt3': '-12345  ', 'kt4': '-12345  ', 'kt5': '-12345  ', 'kt6': '-12345  ', 'kt7': '-12345  ', 'kt8': '-12345  ', 'kt9': '-12345  ', 'kf': '-12345  ', 'kuser0': '-12345  ', 'kuser1': '-12345  ', 'kuser2': '-12345  ', 'kcmpnm': 'Y', 'knetwk': '-12345  ', 'kdatrd': '-12345  ', 'kinst': '-12345  '})\n",
      "0.004\n",
      "[ 0.29618666  0.2963496   0.29642203 ...,  0.29601464  0.29858583\n",
      "  0.29708296]\n"
     ]
    },
    {
     "data": {
      "image/png": "[encoded data removed]",
      "text/plain": [
       "<Figure size 720x360 with 1 Axes>"
      ]
     },
     "metadata": {
      "needs_background": "light"
     },
     "output_type": "display_data"
    },
    {
     "data": {
      "text/plain": [
       "'\\nplt.figure(figsize=(10,5))\\nfor tr in stream:\\n    tr.normalize()\\n    dist = tr.stats.sac.dist\\n    plt.plot(tr.times(),tr.data+dist*0.01,c=\"k\",linewidth=0.5)\\n    plt.scatter(tr.stats.sac.t3,dist*0.01,marker=\"|\",color=\"r\")\\nplt.ylabel(\"x100 km\")    \\nplt.ylim(84,77)\\nplt.xlim(650,800)\\nplt.show()\\n'"
      ]
     },
     "execution_count": 1,
     "metadata": {},
     "output_type": "execute_result"
    }
   ],
   "source": [
    "#!/usr/bin/python \n",
    "# -*- coding: latin-1 -*-\n",
    "\n",
    "from obspy import read\n",
    "import matplotlib.pyplot as plt\n",
    "\n",
    "\n",
    "#Ignore warnings due to python 2 and 3 conflict\n",
    "import warnings\n",
    "warnings.filterwarnings(\"ignore\")\n",
    "\n",
    "stream = read(\"C:/Users/34639/Desktop/curspython/sismologia/datos_entrada_sismograma/.SRU..Y.D.2013.158.8_8_5.SAC\", debug_headers=True)\n",
    "\n",
    "# Accedemos a los datos\n",
    "tr = stream[0]\n",
    "print(tr.stats) #estadisticas\n",
    "\n",
    "tr.normalize() #normalizacion de los datos\n",
    "delta = tr.stats.sac.delta #accedemos al valor de metadato delta\n",
    "print(delta)\n",
    "print(tr.data)\n",
    "\n",
    "tiempo = tr.times()\n",
    "datos =tr.data #datos del sismograma\n",
    "\n",
    "# Ploteamos\n",
    "plt.figure(figsize=(10,5)) #tamanyo figura\n",
    "\n",
    "plt.plot(tiempo,datos,c=\"k\",linewidth=0.5) # x tiempo y datos, grosor linea\n",
    "plt.ylabel(\"Amplitud (mV)\") #etiquetas\n",
    "plt.xlabel(\"Tiempo (s)\")\n",
    "        \n",
    "plt.ylim(min(datos),max(datos)) #ploteamos los datos\n",
    "plt.xlim(min(tiempo),max(tiempo))\n",
    "plt.show()\n",
    "\n",
    "\n",
    "\n",
    "\n",
    "# Ejemplo de internet\n",
    "\"\"\"\n",
    "plt.figure(figsize=(10,5))\n",
    "for tr in stream:\n",
    "    tr.normalize()\n",
    "    dist = tr.stats.sac.dist\n",
    "    plt.plot(tr.times(),tr.data+dist*0.01,c=\"k\",linewidth=0.5)\n",
    "    plt.scatter(tr.stats.sac.t3,dist*0.01,marker=\"|\",color=\"r\")\n",
    "plt.ylabel(\"x100 km\")    \n",
    "plt.ylim(84,77)\n",
    "plt.xlim(650,800)\n",
    "plt.show()\n",
    "\"\"\"\n"
   ]
  },
  {
   "cell_type": "code",
   "execution_count": null,
   "id": "eb87532e",
   "metadata": {},
   "outputs": [],
   "source": []
  }
 ],
 "metadata": {
  "kernelspec": {
   "display_name": "Python 3",
   "language": "python",
   "name": "python3"
  },
  "language_info": {
   "codemirror_mode": {
    "name": "ipython",
    "version": 3
   },
   "file_extension": ".py",
   "mimetype": "text/x-python",
   "name": "python",
   "nbconvert_exporter": "python",
   "pygments_lexer": "ipython3",
   "version": "3.9.4"
  }
 },
 "nbformat": 4,
 "nbformat_minor": 5
}
